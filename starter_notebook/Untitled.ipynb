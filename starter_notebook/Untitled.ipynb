{
 "cells": [
  {
   "cell_type": "markdown",
   "metadata": {},
   "source": [
    "# Step 6: One-Step Forecasting"
   ]
  },
  {
   "cell_type": "code",
   "execution_count": null,
   "metadata": {},
   "outputs": [],
   "source": [
    "pred_62043 = output_62043.get_prediction(start=pd.to_datetime('2012-01-01'), dynamic=False)\n",
    "pred_conf_62043 = pred_62043.conf_int()"
   ]
  },
  {
   "cell_type": "code",
   "execution_count": null,
   "metadata": {},
   "outputs": [],
   "source": [
    "#plot observed values\n",
    "ax = np.log(nyc_zip_62043['1996-04-01':]).plot(label='observed')\n",
    "\n",
    "#plot predicted values\n",
    "pred_62043.predicted_mean.plot(ax=ax, label='One-step ahead Forecast', alpha=.9)\n",
    "\n",
    "#plot the range for confidence intervals\n",
    "ax.fill_between(pred_conf_62043.index,\n",
    "                pred_conf_62043.iloc[:, 0],\n",
    "                pred_conf_62043.iloc[:, 1], color='g', alpha=.2)\n",
    "\n",
    "#set axes labels\n",
    "ax.set_xlabel('Date')\n",
    "ax.set_ylabel('House Values')\n",
    "plt.legend()\n",
    "\n",
    "plt.show()"
   ]
  },
  {
   "cell_type": "markdown",
   "metadata": {},
   "source": [
    "# Step 7: Dynamic Forecasting"
   ]
  },
  {
   "cell_type": "code",
   "execution_count": null,
   "metadata": {},
   "outputs": [],
   "source": [
    "#get the real and predicted values\n",
    "top_nyc_62043_forecasted = pred_62043.predicted_mean\n",
    "nyc_62043_truth = np.log(nyc_zip_62043['2012-01-01':]).values\n",
    "\n",
    "#compute the mean square error\n",
    "rmse_62043 = np.sqrt(((top_nyc_62043_forecasted - nyc_62043_truth) ** 2).mean())\n",
    "print('The Root Mean Squared Error of our forecasts is {}'.format(round(rmse_62043, 2)))"
   ]
  },
  {
   "cell_type": "code",
   "execution_count": null,
   "metadata": {},
   "outputs": [],
   "source": [
    "#get forecast 60 steps (5 years) ahead in future\n",
    "prediction_62043 = output_62043.get_forecast(steps=61)\n",
    "\n",
    "#get confidence intervals of forecasts\n",
    "pred_conf_62043 = prediction_62043.conf_int()"
   ]
  },
  {
   "cell_type": "code",
   "execution_count": null,
   "metadata": {},
   "outputs": [],
   "source": [
    "#plot future predictions with confidence intervals\n",
    "\n",
    "ax = np.log(nyc_zip_62043).plot(label='observed', figsize=(20, 15))\n",
    "prediction_62043.predicted_mean.plot(ax=ax, label='Forecast')\n",
    "ax.fill_between(pred_conf_62043.index,\n",
    "                pred_conf_62043.iloc[:, 0],\n",
    "                pred_conf_62043.iloc[:, 1], color='k', alpha=.25)\n",
    "ax.set_xlabel('Date')\n",
    "ax.set_ylabel('House Values')\n",
    "\n",
    "plt.legend()\n",
    "plt.show()"
   ]
  },
  {
   "cell_type": "code",
   "execution_count": null,
   "metadata": {},
   "outputs": [],
   "source": [
    "pred_dynamic_62043 = output_62043.get_prediction(start=pd.to_datetime('2017-01-01'), dynamic=True, full_results=True)\n",
    "pred_dynamic_conf_62043 = pred_dynamic_62043.conf_int()"
   ]
  },
  {
   "cell_type": "code",
   "execution_count": null,
   "metadata": {},
   "outputs": [],
   "source": [
    "for i , pred_dynamic in enumerate(pred_dynamics):\n",
    "    series = timeseries[i][1]\n",
    "    \n",
    "    \n",
    "    \n",
    "    # Get the Real and predicted values\n",
    "    series_forecasted = pred_dynamic[0].predicted_mean\n",
    "    series_truth = series['2017-01-01':].squeeze()\n",
    "\n",
    "    # series_truth.squeeze()\n",
    "    # Compute the mean square error\n",
    "    rmse = np.sqrt(((series_forecasted-series_truth)**2).mean())\n",
    "\n",
    "    print(titles[i],'\\n')\n",
    "    print('The Root Mean Squared Error of our forecasts is {}'.format(round(rmse, 2)))\n",
    "    print('The root mean squared error'.title()\n",
    "          + 'of our forcase is'\n",
    "          +'{}% of mean housing price from 2017.'.format(round(rmse/series_truth.mean()*100,3)))\n",
    "    # The Mean Squared Error of our forecasts is 0.07\n",
    "    \n",
    "    \n",
    "    ax = series['2015':].plot(label='observed', figsize=(20, 15))\n",
    "    pred_dynamic[0].predicted_mean.plot(label='Dynamic Forecast', ax=ax)\n",
    "\n",
    "    ax.fill_between(pred_dynamic[1].index,\n",
    "                    pred_dynamic[1].iloc[:, 0],\n",
    "                    pred_dynamic[1].iloc[:, 1], color='g', alpha=.3)\n",
    "\n",
    "    ax.fill_betweenx(ax.get_ylim(), pd.to_datetime('2017-01-01'), series_forecasted.index[-1], alpha=.1, zorder=-1)\n",
    "\n",
    "    ax.set_xlabel('Date')\n",
    "    ax.set_ylabel('Housing Price')\n",
    "    ax.set_title(titles[i])\n",
    "    plt.legend()\n",
    "    plt.show()"
   ]
  },
  {
   "cell_type": "markdown",
   "metadata": {},
   "source": [
    "# Step 8: Interpreting Results (Actual v. Predicted)"
   ]
  },
  {
   "cell_type": "code",
   "execution_count": null,
   "metadata": {},
   "outputs": [],
   "source": [
    "profits =[]\n",
    "compare = []\n",
    "for i, prediction in enumerate(forecasts):\n",
    "   \n",
    "    actual =  timeseries[i][1]['2018-04'].values[0][0] \n",
    "    future = prediction[0].predicted_mean['2021-04'].values[0]\n",
    "    limits = prediction[1]['2020-04'].values[0]\n",
    "    \n",
    "    profit = future-actual\n",
    "    compare.append(((i,titles[i]),round(profit,0),round(profit/actual*100,0), actual, future, limits))\n",
    "    \n",
    "    #sorting the profit margins by the relative quantities (% increase)\n",
    "    compare_sorted_rel = sorted(compare, key = lambda x:x[2], reverse = True)"
   ]
  },
  {
   "cell_type": "code",
   "execution_count": null,
   "metadata": {},
   "outputs": [],
   "source": [
    "topbar =[]\n",
    "bottombar =[]\n",
    "yerrs =[]\n",
    "xs =[]\n",
    "label =[]\n",
    "for i in range(len(compare_sorted_rel)):\n",
    "    topbar.append(round(compare_sorted_rel[i][4],0))\n",
    "    bottombar.append(round(compare_sorted_rel[i][3],0))\n",
    "    yerrs.append(round(compare_sorted_rel[i][-1][1]- compare_sorted_rel[i][-2],0))\n",
    "    idx = compare_sorted_rel[i][0][0]\n",
    "    label.append(str(compare_sorted_rel[i][2])[:-2]+'%')\n",
    "    xs.append(str(timeseries[idx][0].RegionName.values[0]))"
   ]
  },
  {
   "cell_type": "code",
   "execution_count": null,
   "metadata": {},
   "outputs": [],
   "source": [
    "plt.style.use('seaborn')\n",
    "fig = plt.figure(figsize =(20,8))\n",
    "x = range(1,len(topbar)+1)\n",
    "plt.bar(x,topbar,yerr=yerrs, color = \"red\", label ='April 2021')\n",
    "plt.bar(x, bottombar, color = \"blue\", label ='April 2018')\n",
    "\n",
    "for i in range(len(label)):\n",
    "    plt.text(x=x[i]+0.1,y=topbar[i]+500000, s=label[i],fontsize = 18)\n",
    "\n",
    "plt.gcf().autofmt_xdate()\n",
    "plt.legend(fontsize = 20)\n",
    "plt.xticks(fontsize=20)\n",
    "plt.yticks(fontsize=20)\n",
    "plt.ticklabel_format(style ='plain')\n",
    "plt.title('Comparisons between actual price in April 2018 and predicted price in April 2021', fontsize=20)\n",
    "plt.gcf().autofmt_xdate()"
   ]
  },
  {
   "cell_type": "code",
   "execution_count": null,
   "metadata": {},
   "outputs": [],
   "source": [
    "for i in range(len(compare_sorted_rel)):\n",
    "    print(compare_sorted_rel[i][0][1], '\\t',label[i])"
   ]
  }
 ],
 "metadata": {
  "kernelspec": {
   "display_name": "Python 3",
   "language": "python",
   "name": "python3"
  },
  "language_info": {
   "codemirror_mode": {
    "name": "ipython",
    "version": 3
   },
   "file_extension": ".py",
   "mimetype": "text/x-python",
   "name": "python",
   "nbconvert_exporter": "python",
   "pygments_lexer": "ipython3",
   "version": "3.7.0"
  }
 },
 "nbformat": 4,
 "nbformat_minor": 2
}
